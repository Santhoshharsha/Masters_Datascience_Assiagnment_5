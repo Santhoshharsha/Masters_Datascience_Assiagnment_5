{
 "cells": [
  {
   "cell_type": "code",
   "execution_count": 1,
   "metadata": {},
   "outputs": [
    {
     "name": "stdout",
     "output_type": "stream",
     "text": [
      "Enter Numerator Value in number :1\n",
      "Enter Denominator Value in number :2\n",
      "Result for passing 5/0 : 0.5\n"
     ]
    }
   ],
   "source": [
    "#1) Write a function to compute 5/0 and use try/except to catch the exceptions.\n",
    "\n",
    "class zerodevider():\n",
    "    def __init__(self, numerator, denominator):\n",
    "        self.numerator=numerator\n",
    "        self.denominator=denominator\n",
    "    \n",
    "    def compute(self):\n",
    "        try:\n",
    "            self.result= self.numerator/self.denominator\n",
    "            return self.result\n",
    "        except ZeroDivisionError as e:\n",
    "            print('Devided by Zero caused the error')\n",
    "            return \"Devided by Zero Error\"\n",
    "        except Exception as e:\n",
    "            print('Other Errors ',e)\n",
    "\n",
    "try:\n",
    "    userNumerator=int(input('Enter Numerator Value in number :'))\n",
    "    userDenominator=int(input('Enter Denominator Value in number :'))\n",
    "    \n",
    "    ObjZeroDevider=zerodevider(userNumerator,userDenominator)\n",
    "    \n",
    "    result=ObjZeroDevider.compute()\n",
    "    print('Result for passing 5/0 :',result)\n",
    "    \n",
    "except ValueError as err:\n",
    "    print ('Enter Valid Integer Number')\n",
    "    \n",
    "except Exception as err:\n",
    "    print ('Other errors ',err)\n"
   ]
  },
  {
   "cell_type": "code",
   "execution_count": 2,
   "metadata": {},
   "outputs": [
    {
     "name": "stdout",
     "output_type": "stream",
     "text": [
      "Subject List:  ['Americans ', 'Indians']\n",
      "verbs List:  ['play', 'watch']\n",
      "objects List:  ['Baseball', 'Cricket']\n",
      "      \n",
      "Generated Sentences using above lists are: \n",
      "      \n",
      "Americans  play Baseball\n",
      "Americans  play Cricket\n",
      "Americans  watch Baseball\n",
      "Americans  watch Cricket\n",
      "Indians play Baseball\n",
      "Indians play Cricket\n",
      "Indians watch Baseball\n",
      "Indians watch Cricket\n"
     ]
    }
   ],
   "source": [
    "# 2. Implement a Python program to generate all sentences where subject is in [\"Americans\",\"Indians\"] and verb is in [\"Play\", \"watch\"] and the object is in [\"Baseball\",\"cricket\"].Hint: Subject,Verb and Object should be declared in the program as shown below.subjects=[\"Americans \",\"Indians\"]verbs=[\"play\",\"watch\"]objects=[\"Baseball\",\"Cricket\"]\n",
    "# Output should come as below:\n",
    "# Americans play Baseball.\n",
    "#Americans play Cricket.\n",
    "#Americans watch Baseball.\n",
    "#Americans watch Cricket.\n",
    "#Indians play Baseball.\n",
    "#Indians play Cricket.\n",
    "#Indians watch Baseball.\n",
    "#Indians watch Cricket.\n",
    "\n",
    "try:\n",
    "    subjects=[\"Americans \",\"Indians\"]\n",
    "    verbs=[\"play\",\"watch\"]\n",
    "    objects=[\"Baseball\",\"Cricket\"]\n",
    "    \n",
    "    print ('Subject List: ',subjects)\n",
    "    print ('verbs List: ',verbs)\n",
    "    print ('objects List: ',objects)\n",
    "    print('      ')\n",
    "    \n",
    "    print('Generated Sentences using above lists are: ')\n",
    "    print('      ')\n",
    "    \n",
    "    \n",
    "    for sub in subjects:\n",
    "        for verb in verbs:\n",
    "            for obj in objects:\n",
    "                print(sub +' '+verb+' '+ obj)\n",
    "except Exception as e:\n",
    "    print('Other error. And error is',e )\n"
   ]
  }
 ],
 "metadata": {
  "kernelspec": {
   "display_name": "Python 3",
   "language": "python",
   "name": "python3"
  },
  "language_info": {
   "codemirror_mode": {
    "name": "ipython",
    "version": 3
   },
   "file_extension": ".py",
   "mimetype": "text/x-python",
   "name": "python",
   "nbconvert_exporter": "python",
   "pygments_lexer": "ipython3",
   "version": "3.6.5"
  }
 },
 "nbformat": 4,
 "nbformat_minor": 2
}
